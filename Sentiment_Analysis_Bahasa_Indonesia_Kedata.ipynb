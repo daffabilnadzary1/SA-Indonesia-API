{
  "nbformat": 4,
  "nbformat_minor": 0,
  "metadata": {
    "colab": {
      "name": "Sentiment Analysis Bahasa Indonesia - Kedata.ipynb",
      "provenance": [],
      "collapsed_sections": [],
      "mount_file_id": "1tRzEHu5-EsO13wgbBOHwKhU7HZxyhllO",
      "authorship_tag": "ABX9TyOpxONd+csE6g+QC0mvZh7p",
      "include_colab_link": true
    },
    "kernelspec": {
      "name": "python3",
      "display_name": "Python 3"
    },
    "language_info": {
      "name": "python"
    }
  },
  "cells": [
    {
      "cell_type": "markdown",
      "metadata": {
        "id": "view-in-github",
        "colab_type": "text"
      },
      "source": [
        "<a href=\"https://colab.research.google.com/github/daffabilnadzary1/Sentiment-Analysis-Bahasa-Indonesia/blob/main/Sentiment_Analysis_Bahasa_Indonesia_Kedata.ipynb\" target=\"_parent\"><img src=\"https://colab.research.google.com/assets/colab-badge.svg\" alt=\"Open In Colab\"/></a>"
      ]
    },
    {
      "cell_type": "markdown",
      "source": [
        "##Prerequisite"
      ],
      "metadata": {
        "id": "MgGko6qqZ9V1"
      }
    },
    {
      "cell_type": "code",
      "source": [
        "##connecting to drive session\n",
        "dataset_path = \"/content/drive/MyDrive/Kedata/Tugas/1/Dataset\""
      ],
      "metadata": {
        "id": "N8U5o080YlE7"
      },
      "execution_count": 1,
      "outputs": []
    },
    {
      "cell_type": "code",
      "source": [
        "#download required package\n",
        "!pip install Sastrawi\n",
        "!pip install nltk\n",
        "!pip install transformers"
      ],
      "metadata": {
        "id": "guzKfF3vzxvt"
      },
      "execution_count": null,
      "outputs": []
    },
    {
      "cell_type": "code",
      "source": [
        "#used to download and read the csv from github\n",
        "import requests\n",
        "import io\n",
        "\n",
        "#package used for this project\n",
        "import pandas as pd\n",
        "import numpy as np\n",
        "import gensim\n",
        "import string\n",
        "\n",
        "#visualization\n",
        "import matplotlib.pyplot as plt\n",
        "import seaborn as sns\n",
        "import matplotlib as mpl\n",
        "\n",
        "#dealing with corpus\n",
        "import re\n",
        "import nltk\n",
        "from nltk.corpus import stopwords\n",
        "from nltk.tokenize import word_tokenize\n",
        "\n",
        "#indonesian word stemmer and stopword removal\n",
        "from Sastrawi.Stemmer.StemmerFactory import StemmerFactory\n",
        "from Sastrawi.StopWordRemover.StopWordRemoverFactory import StopWordRemoverFactory, StopWordRemover, ArrayDictionary"
      ],
      "metadata": {
        "id": "8D1Fyvl0H4uz"
      },
      "execution_count": 73,
      "outputs": []
    },
    {
      "cell_type": "code",
      "source": [
        "nltk.download('punkt')"
      ],
      "metadata": {
        "id": "Bx3zE4xgZ20S",
        "colab": {
          "base_uri": "https://localhost:8080/"
        },
        "outputId": "40de4c90-379a-4b22-b7c4-faae60869c6b"
      },
      "execution_count": 4,
      "outputs": [
        {
          "output_type": "stream",
          "name": "stdout",
          "text": [
            "[nltk_data] Downloading package punkt to /root/nltk_data...\n",
            "[nltk_data]   Unzipping tokenizers/punkt.zip.\n"
          ]
        },
        {
          "output_type": "execute_result",
          "data": {
            "text/plain": [
              "True"
            ]
          },
          "metadata": {},
          "execution_count": 4
        }
      ]
    },
    {
      "cell_type": "markdown",
      "source": [
        "##Getting Started"
      ],
      "metadata": {
        "id": "2-QU2i9EZ46C"
      }
    },
    {
      "cell_type": "code",
      "source": [
        "##Get the dataset\n",
        "url = 'https://raw.githubusercontent.com/indobenchmark/indonlu/master/dataset/smsa_doc-sentiment-prosa/train_preprocess.tsv'\n",
        "url2 = 'https://raw.githubusercontent.com/indobenchmark/indonlu/master/dataset/smsa_doc-sentiment-prosa/valid_preprocess.tsv'\n",
        "\n",
        "download = requests.get(url).content\n",
        "download2 = requests.get(url2).content\n",
        "train_df = pd.read_csv(io.StringIO(download.decode('utf-8')), sep = \"\\t\", names = [\"teks\", \"label\"])\n",
        "valid_df = pd.read_csv(io.StringIO(download2.decode('utf-8')), sep = \"\\t\", names = [\"teks\", \"label\"])"
      ],
      "metadata": {
        "id": "pLQ5CwtmH_U0"
      },
      "execution_count": 67,
      "outputs": []
    },
    {
      "cell_type": "code",
      "source": [
        "##Used to filter slang words\n",
        "slang_url = \"https://raw.githubusercontent.com/nasalsabila/kamus-alay/master/colloquial-indonesian-lexicon.csv\"\n",
        "download = requests.get(slang_url).content\n",
        "slang_df = pd.read_csv(io.StringIO(download.decode('utf-8')))"
      ],
      "metadata": {
        "id": "weOBhekXPaBc"
      },
      "execution_count": 32,
      "outputs": []
    },
    {
      "cell_type": "code",
      "source": [
        "train_df"
      ],
      "metadata": {
        "id": "zc7qCFZoQUld"
      },
      "execution_count": null,
      "outputs": []
    },
    {
      "cell_type": "code",
      "source": [
        "valid_df.head()"
      ],
      "metadata": {
        "id": "4p_enRbU5B57"
      },
      "execution_count": null,
      "outputs": []
    },
    {
      "cell_type": "code",
      "source": [
        "slang_df.head()"
      ],
      "metadata": {
        "id": "M6lRDI_kQbsz"
      },
      "execution_count": null,
      "outputs": []
    },
    {
      "cell_type": "markdown",
      "source": [
        "##Overview of the Data"
      ],
      "metadata": {
        "id": "BMmGZVGUTzRa"
      }
    },
    {
      "cell_type": "markdown",
      "source": [
        "###Exploratory Data Analysis"
      ],
      "metadata": {
        "id": "VCAEWjGEPGwB"
      }
    },
    {
      "cell_type": "code",
      "source": [
        "#overview of the negative dataset, this is to improve the stopwords we can use\n",
        "\n",
        "train_df_neg = train_df[train_df[\"label\"] == \"negative\"]\n",
        "train_df_neg.to_csv(dataset_path+'/dataset_negative.csv', header = True, index = False)"
      ],
      "metadata": {
        "id": "mR4NV7--WS66"
      },
      "execution_count": null,
      "outputs": []
    },
    {
      "cell_type": "code",
      "source": [
        "##function to plot the data using pie chart\n",
        "def pieChart(sizes, ax, angle=90, labels = None, colors = None, explode = None, shadow = None):\n",
        "    # Plot\n",
        "    ax.pie(sizes, colors = colors, labels=labels, autopct='%.1f%%', \n",
        "           startangle = angle, pctdistance=0.8, explode = explode, \n",
        "           wedgeprops=dict(width=0.4), shadow=shadow)\n",
        "\n",
        "    # Formatting\n",
        "    plt.axis('equal')  \n",
        "    plt.tight_layout()"
      ],
      "metadata": {
        "id": "svoT8XoUPLjR"
      },
      "execution_count": 10,
      "outputs": []
    },
    {
      "cell_type": "markdown",
      "source": [
        "####Plotting the data"
      ],
      "metadata": {
        "id": "NCHvJBwpQ5a8"
      }
    },
    {
      "cell_type": "code",
      "source": [
        "# Plot arguments\n",
        "sizes = train_df.label.value_counts()\n",
        "labels = ['Positive', 'Neutral', 'Negative']\n",
        "colors = ['lightgreen', 'lightskyblue', 'lightcyan']\n",
        "explode = (0, 0, 0)\n",
        "\n",
        "# Create axes\n",
        "f, ax = plt.subplots(figsize = (6, 4))\n",
        "\n",
        "# plot the chart\n",
        "pieChart(sizes, ax, 90, labels, colors=colors, explode = explode, shadow = True)\n",
        "ax.set_title('Sentiment Proportions')\n",
        "\n",
        "plt.show()"
      ],
      "metadata": {
        "colab": {
          "base_uri": "https://localhost:8080/",
          "height": 313
        },
        "id": "T2_dEcNhQ4WA",
        "outputId": "a286d455-fc02-479a-da97-40125bafbace"
      },
      "execution_count": 74,
      "outputs": [
        {
          "output_type": "display_data",
          "data": {
            "image/png": "[encoded data removed]",
            "text/plain": [
              "<Figure size 432x288 with 1 Axes>"
            ]
          },
          "metadata": {}
        }
      ]
    },
    {
      "cell_type": "markdown",
      "source": [
        "######Around 60% of the texts are positive, with only 10% of it are negative."
      ],
      "metadata": {
        "id": "yUqb1zERQ_I2"
      }
    },
    {
      "cell_type": "markdown",
      "source": [
        "##Text Preprocessing"
      ],
      "metadata": {
        "id": "QndXse-sT5RV"
      }
    },
    {
      "cell_type": "markdown",
      "source": [
        "###Creating methods for preprocessing data"
      ],
      "metadata": {
        "id": "raxshjEJRWr0"
      }
    },
    {
      "cell_type": "markdown",
      "source": [
        "One thing I noticed about the stopwords included in Sastrawi's library is that it also contains words like \"tidak, nggak, tetapi, tapi\". Those words should not be deleted."
      ],
      "metadata": {
        "id": "QpHcSTSIW0N0"
      }
    },
    {
      "cell_type": "markdown",
      "source": [
        "Sentences/phrases like \"Tidak suka\" which has the label of \"negative\" will be turned into \"suka\", while the label is still the same. "
      ],
      "metadata": {
        "id": "vzg9Si91XOYR"
      }
    },
    {
      "cell_type": "code",
      "source": [
        "##create function used to change texts to lowercase\n",
        "def caseFolding(text):\n",
        "  processed = text.lower()\n",
        "  return processed\n",
        "\n",
        "##create function used to remove punctuations\n",
        "def removePunctuation(text):\n",
        "  processed = \"\".join(x for x in text if x not in (\"?\", \",\", \".\", \";\", \"@\", \":\", \"!\", \"'\", \"-\"))\n",
        "  return processed\n",
        "\n",
        "##create function to delete numbers\n",
        "def removeNumbers(text):\n",
        "  processed = re.sub(r\"\\d+\", \"\", text)\n",
        "  return processed\n",
        "\n",
        "##create function to delete stopwords\n",
        "def IDStopwordRemoval(text):\n",
        "  stopwordFactory = StopWordRemoverFactory()\n",
        "  stopword = stopwordFactory.get_stop_words()\n",
        "\n",
        "  stopwords_exclude = ['tidak', 'nggak', 'tetapi', 'tapi']\n",
        "  for i in stopwords_exclude:\n",
        "    stopword.remove(i)\n",
        "\n",
        "  dictionary = ArrayDictionary(stopword)\n",
        "  stopwords = StopWordRemover(dictionary)\n",
        "\n",
        "  processed = stopwords.remove(text)\n",
        "\n",
        "  return processed\n",
        "\n",
        "##create function to stem words\n",
        "factory = StemmerFactory()\n",
        "stemmer = factory.create_stemmer()\n",
        "\n",
        "def indonesianStemmer(text):\n",
        "  # creating stemmer\n",
        "  processed = stemmer.stem(text)\n",
        "  return processed"
      ],
      "metadata": {
        "id": "CGwKMzSBZtW7"
      },
      "execution_count": 75,
      "outputs": []
    },
    {
      "cell_type": "markdown",
      "source": [
        "###Applying on both train and validation dataset"
      ],
      "metadata": {
        "id": "HYGE4ncsRabk"
      }
    },
    {
      "cell_type": "code",
      "source": [
        "##Text Preprocessing for train_df\n",
        "train_df[\"teks\"] = train_df[\"teks\"].apply(caseFolding)\n",
        "train_df[\"teks\"] = train_df[\"teks\"].apply(removePunctuation)\n",
        "train_df[\"teks\"] = train_df[\"teks\"].apply(removeNumbers)\n",
        "train_df[\"teks\"] = train_df[\"teks\"].apply(IDStopwordRemoval)"
      ],
      "metadata": {
        "id": "bJTlgGfcffkB"
      },
      "execution_count": 35,
      "outputs": []
    },
    {
      "cell_type": "code",
      "source": [
        "##Text Preprocessing for valid_df\n",
        "valid_df[\"teks\"] = valid_df[\"teks\"].apply(caseFolding)\n",
        "valid_df[\"teks\"] = valid_df[\"teks\"].apply(removePunctuation)\n",
        "valid_df[\"teks\"] = valid_df[\"teks\"].apply(removeNumbers)\n",
        "valid_df[\"teks\"] = valid_df[\"teks\"].apply(IDStopwordRemoval)"
      ],
      "metadata": {
        "id": "RhCs6RgZRTz5"
      },
      "execution_count": 38,
      "outputs": []
    },
    {
      "cell_type": "markdown",
      "source": [
        "###Stemming process"
      ],
      "metadata": {
        "id": "eU3Z_IflSKEx"
      }
    },
    {
      "cell_type": "code",
      "source": [
        "#stemming takes a lot of time, so we'll separate the cells\n",
        "#apply stemmer to the texts\n",
        "train_df[\"teks\"] = train_df[\"teks\"].apply(indonesianStemmer)\n",
        "valid_df[\"teks\"] = valid_df[\"teks\"].apply(indonesianStemmer)"
      ],
      "metadata": {
        "id": "xJ8ma3SvV2ca"
      },
      "execution_count": 40,
      "outputs": []
    },
    {
      "cell_type": "code",
      "source": [
        "train_df"
      ],
      "metadata": {
        "id": "tIrt0EIwQX5D"
      },
      "execution_count": null,
      "outputs": []
    },
    {
      "cell_type": "code",
      "source": [
        "valid_df"
      ],
      "metadata": {
        "id": "HePV3tJVQgn2"
      },
      "execution_count": null,
      "outputs": []
    },
    {
      "cell_type": "code",
      "source": [
        "##instead of using labels, we assign those labels to numbers from -1 to 1, with 1 being \"positive\", -1 being \"negative\", and 0 being \"neutral\"\n",
        "train_df[\"sentiment\"] = train_df[\"label\"].apply(lambda label: +1 if label == \"positive\" else (-1 if label == \"negative\" else 0))\n",
        "valid_df[\"sentiment\"] = valid_df[\"label\"].apply(lambda label: +1 if label == \"positive\" else (-1 if label == \"negative\" else 0))"
      ],
      "metadata": {
        "id": "VzJlvmexoUle"
      },
      "execution_count": 43,
      "outputs": []
    },
    {
      "cell_type": "code",
      "source": [
        "##Saving the dataset so it can be used later\n",
        "train_df.to_csv(dataset_path+'/dataset_stemmed.csv', header = True, index = False)\n",
        "valid_df.to_csv(dataset_path+'/valid_stemmed.csv', header = True, index = False)"
      ],
      "metadata": {
        "id": "G9KLcAYgX3hU"
      },
      "execution_count": 44,
      "outputs": []
    },
    {
      "cell_type": "markdown",
      "source": [
        "###Text normalization, changing all slang words into formal"
      ],
      "metadata": {
        "id": "67Ar2FmKRpCQ"
      }
    },
    {
      "cell_type": "code",
      "source": [
        "normalized_dict = {}\n",
        "\n",
        "for index, row in slang_df.iterrows():\n",
        "    if row[0] not in normalized_dict:\n",
        "        normalized_dict[row[0]] = row[1]\n",
        "        \n",
        "def normalize_review(text):\n",
        "  # tokenize\n",
        "  list_text = word_tokenize(text)\n",
        "  # ubah bahasa alay\n",
        "  list_text = [normalized_dict[term] if term in normalized_dict else term for term in list_text]\n",
        "  # gabung kembali kalimat\n",
        "  text = \" \".join(list_text)\n",
        "  return text\n",
        "\n",
        "def slangNormalization(df):\n",
        "  processed = df.copy()\n",
        "  processed.teks = processed.teks.map(normalize_review)\n",
        "\n",
        "  # delete empty row\n",
        "  processed.teks.replace('', np.nan, inplace=True)\n",
        "  processed.teks.replace(' ', np.nan, inplace=True)\n",
        "  processed.dropna(subset=['teks'], inplace=True)\n",
        "  return processed"
      ],
      "metadata": {
        "id": "sfjhiIXnRxG5"
      },
      "execution_count": 45,
      "outputs": []
    },
    {
      "cell_type": "code",
      "source": [
        "# take a while\n",
        "train_df  = slangNormalization(train_df)\n",
        "valid_df = slangNormalization(valid_df)"
      ],
      "metadata": {
        "id": "7wte9FzTZCip"
      },
      "execution_count": 46,
      "outputs": []
    },
    {
      "cell_type": "code",
      "source": [
        "##Overview of the cleaned dataset\n",
        "train_df"
      ],
      "metadata": {
        "id": "OVYOV9lumkAG"
      },
      "execution_count": null,
      "outputs": []
    },
    {
      "cell_type": "code",
      "source": [
        "##Saving once more\n",
        "train_df.to_csv(dataset_path+'/dataset_normalized.csv', header = True, index = False)\n",
        "valid_df.to_csv(dataset_path+'/valid_normalized.csv', header = True, index = False)"
      ],
      "metadata": {
        "id": "KFkufhN7aHUR"
      },
      "execution_count": 48,
      "outputs": []
    },
    {
      "cell_type": "markdown",
      "source": [
        "###Group the preprocessing methods into a single method"
      ],
      "metadata": {
        "id": "4mib562gn0_c"
      }
    },
    {
      "cell_type": "code",
      "source": [
        "def preprocessing(text):\n",
        "  processed = \"\"\n",
        "  processed = caseFolding(text)\n",
        "  processed = removePunctuation(text)\n",
        "  processed = removeNumbers(text)\n",
        "  processed = IDStopwordRemoval(text)\n",
        "  processed = indonesianStemmer(text)\n",
        "  processed = normalize_review(text)\n",
        "  return processed"
      ],
      "metadata": {
        "id": "8UK0KNq9n7fE"
      },
      "execution_count": 49,
      "outputs": []
    },
    {
      "cell_type": "markdown",
      "source": [
        "Test on dummy text"
      ],
      "metadata": {
        "id": "kp9X3tJxpWXR"
      }
    },
    {
      "cell_type": "code",
      "source": [
        "text = \"Nama saya adalah Daffa. Saya adalah seorang pengembala, dan sedang mencari sesuatu.\"\n",
        "print(preprocessing(text))"
      ],
      "metadata": {
        "colab": {
          "base_uri": "https://localhost:8080/"
        },
        "id": "t7YcHkqfojEO",
        "outputId": "1b3ef627-de18-4eac-e5b6-909a12232766"
      },
      "execution_count": 50,
      "outputs": [
        {
          "output_type": "stream",
          "name": "stdout",
          "text": [
            "Nama saya adalah Daffa . Saya adalah seorang pengembala , dan sedang mencari sesuatu .\n"
          ]
        }
      ]
    },
    {
      "cell_type": "markdown",
      "source": [
        "##Importing our Processed Dataset"
      ],
      "metadata": {
        "id": "8tbEPka3gdkE"
      }
    },
    {
      "cell_type": "code",
      "source": [
        "url = \"/content/drive/MyDrive/Kedata/Tugas/1/Dataset/dataset_normalized.csv\"\n",
        "url2 = \"/content/drive/MyDrive/Kedata/Tugas/1/Dataset/valid_normalized.csv\"\n",
        "X_train =  pd.read_csv(url)\n",
        "X_valid = pd.read_csv(url2)"
      ],
      "metadata": {
        "id": "HIM_01GaueqS"
      },
      "execution_count": 51,
      "outputs": []
    },
    {
      "cell_type": "code",
      "source": [
        "X_train"
      ],
      "metadata": {
        "id": "1UyhownThdYJ"
      },
      "execution_count": null,
      "outputs": []
    },
    {
      "cell_type": "code",
      "source": [
        "X_valid"
      ],
      "metadata": {
        "id": "qY4zYssy7C-i"
      },
      "execution_count": null,
      "outputs": []
    },
    {
      "cell_type": "code",
      "source": [
        "sentiment_label = X_train.sentiment.factorize()"
      ],
      "metadata": {
        "id": "UmrOl1JOmX4y"
      },
      "execution_count": 54,
      "outputs": []
    },
    {
      "cell_type": "code",
      "source": [
        "y_train = pd.DataFrame(X_train.pop(\"sentiment\"))\n",
        "y_valid = pd.DataFrame(X_valid.pop(\"sentiment\"))\n",
        "y_valid = y_valid.to_numpy()"
      ],
      "metadata": {
        "id": "Wa_53g89lpMs"
      },
      "execution_count": 55,
      "outputs": []
    },
    {
      "cell_type": "code",
      "source": [
        "y_valid"
      ],
      "metadata": {
        "id": "rBDDx5bTlvS1"
      },
      "execution_count": null,
      "outputs": []
    },
    {
      "cell_type": "code",
      "source": [
        "y_train"
      ],
      "metadata": {
        "id": "WF-c95Pt1KsZ"
      },
      "execution_count": null,
      "outputs": []
    },
    {
      "cell_type": "markdown",
      "source": [
        "##Method: Support Vector Machine and Random Forest Classifier"
      ],
      "metadata": {
        "id": "uTQYg_DFAfvX"
      }
    },
    {
      "cell_type": "code",
      "source": [
        "##importing packages needed just for the methods\n",
        "from sklearn.feature_extraction.text import TfidfVectorizer\n",
        "import time\n",
        "\n",
        "from sklearn import svm\n",
        "from sklearn.ensemble import RandomForestClassifier\n",
        "from sklearn.metrics import classification_report\n",
        "from sklearn.metrics import confusion_matrix"
      ],
      "metadata": {
        "id": "ITul_StS7EkI"
      },
      "execution_count": 56,
      "outputs": []
    },
    {
      "cell_type": "code",
      "source": [
        "##Building the models\n",
        "\n",
        "def sentimentModel(train_data, train_label, train_valid, method):\n",
        "\n",
        "  ## Creating the vectorizer, we'll use TF-IDF Vectorizer for both method\n",
        "  vectorizer = TfidfVectorizer(min_df = 5,\n",
        "                              max_df = 0.8)\n",
        "  \n",
        "  train_vectors = vectorizer.fit_transform(train_data)\n",
        "  test_vectors = vectorizer.transform(train_valid)\n",
        "\n",
        "  if method == \"RandomForestClassifier\":\n",
        "    classifier = RandomForestClassifier(n_estimators = 200, random_state=0)\n",
        "    t0 = time.time()\n",
        "\n",
        "    classifier.fit(train_vectors, train_label)\n",
        "    t1 = time.time()\n",
        "\n",
        "    prediction = classifier.predict(test_vectors)\n",
        "    t2 = time.time()\n",
        "\n",
        "    time_linear_train = t1 - t0\n",
        "    time_linear_predict = t2 - t1\n",
        "\n",
        "    print(\"Training time: %fs; Prediction time: %fs\" % (time_linear_train, time_linear_predict))\n",
        "\n",
        "  elif method == \"SupportVectorMachine\":\n",
        "    classifier = svm.SVC(kernel = 'poly')\n",
        "    t0 = time.time()\n",
        "\n",
        "    classifier.fit(train_vectors, train_label)\n",
        "    t1 = time.time()\n",
        "\n",
        "    prediction = classifier.predict(test_vectors)\n",
        "    t2 = time.time()\n",
        "\n",
        "    time_linear_train = t1 - t0\n",
        "    time_linear_predict = t2 - t1\n",
        "\n",
        "    print(\"Training time: %fs; Prediction time: %fs\" % (time_linear_train, time_linear_predict))\n",
        "\n",
        "  return classifier, prediction, vectorizer"
      ],
      "metadata": {
        "id": "HPLWNy4-Ak3h"
      },
      "execution_count": 57,
      "outputs": []
    },
    {
      "cell_type": "code",
      "source": [
        "def evaluateModel(model, prediction):\n",
        "  y_pred = pd.DataFrame(prediction, columns = [\"label\"])\n",
        "  y_pred[\"sentiment\"] = y_pred[\"label\"].apply(lambda label: +1 if label == \"positive\" else (-1 if label == \"negative\" else 0))\n",
        "\n",
        "  y_pred = pd.DataFrame(y_pred.pop(\"sentiment\"))\n",
        "  y_pred = y_pred.to_numpy()\n",
        "\n",
        "  #results\n",
        "  print(\"Confusion Matrix: \\n\")\n",
        "  print(confusion_matrix(y_valid, y_pred))\n",
        "  print(\"\\nClassification  Report: \\n\")\n",
        "  print(classification_report(y_valid, y_pred))"
      ],
      "metadata": {
        "id": "QVll49epEwaj"
      },
      "execution_count": 60,
      "outputs": []
    },
    {
      "cell_type": "code",
      "source": [
        "model, prediction, vectorizer = sentimentModel(X_train['teks'], X_train['label'], X_valid['teks'], method = \"RandomForestClassifier\")"
      ],
      "metadata": {
        "colab": {
          "base_uri": "https://localhost:8080/"
        },
        "id": "HwrzoThfGGLF",
        "outputId": "6100491e-63fe-4cf9-958b-42ed77db3b86"
      },
      "execution_count": 88,
      "outputs": [
        {
          "output_type": "stream",
          "name": "stdout",
          "text": [
            "Training time: 17.887840s; Prediction time: 0.149836s\n"
          ]
        }
      ]
    },
    {
      "cell_type": "code",
      "source": [
        "evaluateModel(model, prediction)"
      ],
      "metadata": {
        "id": "p3fs6O93H5uk"
      },
      "execution_count": null,
      "outputs": []
    },
    {
      "cell_type": "code",
      "source": [
        "def predict(text, model, vectorizer):\n",
        "\n",
        "  text = preprocessing(text)\n",
        "  transformer = vectorizer.transform([text])\n",
        "  prediction = model.predict(transformer)\n",
        "  print(\"Hasil sentiment: \" + prediction[0])\n",
        "\n",
        "  return prediction[0]"
      ],
      "metadata": {
        "id": "7Fh9tyBlGAR4"
      },
      "execution_count": 90,
      "outputs": []
    },
    {
      "cell_type": "code",
      "source": [
        "list_of_words = [\"Halo, nama saya Daffa\",\n",
        "                 \"Saya suka coklat\",\n",
        "                 \"Kalau misalnya saya lihat mereka bersenang-senang hati saya menjadi sedikit risih\",\n",
        "                 \"Coba deh kamu jadi orang yang sedikit rajin biar gak kelihatan banget malasnya\",\n",
        "                 \"Bisa gak sih ngelakuinnya? Emang sesusah apa sih?\",\n",
        "                 \"Ya memang kalau misalnya kamu gak suka sama dia ya tinggal bilang. Ribet amat.\",\n",
        "                 \"Aku coba ngasih saran aja mungkin ya. Soalnya agak sulit juga kalau tiba-tiba hilang gitu\",\n",
        "                 \"Gak sakit kok. Udah sembuh\",\n",
        "                 \"Iya kemarin ada yang kecelakaan\"]\n",
        "dataframe_words = pd.DataFrame(list_of_words, columns = [\"Words\"])"
      ],
      "metadata": {
        "id": "s6QdvjW_Yd5a"
      },
      "execution_count": 89,
      "outputs": []
    },
    {
      "cell_type": "code",
      "source": [
        "dataframe_words[\"sentiment\"] = dataframe_words[\"Words\"].apply(predict, args = (model, vectorizer))\n",
        "#predict(\"halo nama saya daffa\", model, vectorizer)"
      ],
      "metadata": {
        "colab": {
          "base_uri": "https://localhost:8080/"
        },
        "id": "16RdAJ8QIfwU",
        "outputId": "aaa1c988-3a89-49d6-ef5b-008738f6f2f4"
      },
      "execution_count": 92,
      "outputs": [
        {
          "output_type": "stream",
          "name": "stdout",
          "text": [
            "Hasil sentiment: negative\n",
            "Hasil sentiment: positive\n",
            "Hasil sentiment: negative\n",
            "Hasil sentiment: negative\n",
            "Hasil sentiment: negative\n",
            "Hasil sentiment: negative\n",
            "Hasil sentiment: negative\n",
            "Hasil sentiment: negative\n",
            "Hasil sentiment: neutral\n"
          ]
        }
      ]
    },
    {
      "cell_type": "code",
      "source": [
        "dataframe_words"
      ],
      "metadata": {
        "colab": {
          "base_uri": "https://localhost:8080/",
          "height": 332
        },
        "id": "msh9fdP7evQf",
        "outputId": "3891d012-c975-4b11-d059-abe8fddfde35"
      },
      "execution_count": 93,
      "outputs": [
        {
          "output_type": "execute_result",
          "data": {
            "text/html": [
              "\n",
              "  <div id=\"df-015a5ad2-4f0f-451f-9c9b-0bb7d13da764\">\n",
              "    <div class=\"colab-df-container\">\n",
              "      <div>\n",
              "<style scoped>\n",
              "    .dataframe tbody tr th:only-of-type {\n",
              "        vertical-align: middle;\n",
              "    }\n",
              "\n",
              "    .dataframe tbody tr th {\n",
              "        vertical-align: top;\n",
              "    }\n",
              "\n",
              "    .dataframe thead th {\n",
              "        text-align: right;\n",
              "    }\n",
              "</style>\n",
              "<table border=\"1\" class=\"dataframe\">\n",
              "  <thead>\n",
              "    <tr style=\"text-align: right;\">\n",
              "      <th></th>\n",
              "      <th>Words</th>\n",
              "      <th>sentiment</th>\n",
              "    </tr>\n",
              "  </thead>\n",
              "  <tbody>\n",
              "    <tr>\n",
              "      <th>0</th>\n",
              "      <td>Halo, nama saya Daffa</td>\n",
              "      <td>negative</td>\n",
              "    </tr>\n",
              "    <tr>\n",
              "      <th>1</th>\n",
              "      <td>Saya suka coklat</td>\n",
              "      <td>positive</td>\n",
              "    </tr>\n",
              "    <tr>\n",
              "      <th>2</th>\n",
              "      <td>Kalau misalnya saya lihat mereka bersenang-sen...</td>\n",
              "      <td>negative</td>\n",
              "    </tr>\n",
              "    <tr>\n",
              "      <th>3</th>\n",
              "      <td>Coba deh kamu jadi orang yang sedikit rajin bi...</td>\n",
              "      <td>negative</td>\n",
              "    </tr>\n",
              "    <tr>\n",
              "      <th>4</th>\n",
              "      <td>Bisa gak sih ngelakuinnya? Emang sesusah apa sih?</td>\n",
              "      <td>negative</td>\n",
              "    </tr>\n",
              "    <tr>\n",
              "      <th>5</th>\n",
              "      <td>Ya memang kalau misalnya kamu gak suka sama di...</td>\n",
              "      <td>negative</td>\n",
              "    </tr>\n",
              "    <tr>\n",
              "      <th>6</th>\n",
              "      <td>Aku coba ngasih saran aja mungkin ya. Soalnya ...</td>\n",
              "      <td>negative</td>\n",
              "    </tr>\n",
              "    <tr>\n",
              "      <th>7</th>\n",
              "      <td>Gak sakit kok. Udah sembuh</td>\n",
              "      <td>negative</td>\n",
              "    </tr>\n",
              "    <tr>\n",
              "      <th>8</th>\n",
              "      <td>Iya kemarin ada yang kecelakaan</td>\n",
              "      <td>neutral</td>\n",
              "    </tr>\n",
              "  </tbody>\n",
              "</table>\n",
              "</div>\n",
              "      <button class=\"colab-df-convert\" onclick=\"convertToInteractive('df-015a5ad2-4f0f-451f-9c9b-0bb7d13da764')\"\n",
              "              title=\"Convert this dataframe to an interactive table.\"\n",
              "              style=\"display:none;\">\n",
              "        \n",
              "  <svg xmlns=\"http://www.w3.org/2000/svg\" height=\"24px\"viewBox=\"0 0 24 24\"\n",
              "       width=\"24px\">\n",
              "    <path d=\"M0 0h24v24H0V0z\" fill=\"none\"/>\n",
              "    <path d=\"M18.56 5.44l.94 2.06.94-2.06 2.06-.94-2.06-.94-.94-2.06-.94 2.06-2.06.94zm-11 1L8.5 8.5l.94-2.06 2.06-.94-2.06-.94L8.5 2.5l-.94 2.06-2.06.94zm10 10l.94 2.06.94-2.06 2.06-.94-2.06-.94-.94-2.06-.94 2.06-2.06.94z\"/><path d=\"M17.41 7.96l-1.37-1.37c-.4-.4-.92-.59-1.43-.59-.52 0-1.04.2-1.43.59L10.3 9.45l-7.72 7.72c-.78.78-.78 2.05 0 2.83L4 21.41c.39.39.9.59 1.41.59.51 0 1.02-.2 1.41-.59l7.78-7.78 2.81-2.81c.8-.78.8-2.07 0-2.86zM5.41 20L4 18.59l7.72-7.72 1.47 1.35L5.41 20z\"/>\n",
              "  </svg>\n",
              "      </button>\n",
              "      \n",
              "  <style>\n",
              "    .colab-df-container {\n",
              "      display:flex;\n",
              "      flex-wrap:wrap;\n",
              "      gap: 12px;\n",
              "    }\n",
              "\n",
              "    .colab-df-convert {\n",
              "      background-color: #E8F0FE;\n",
              "      border: none;\n",
              "      border-radius: 50%;\n",
              "      cursor: pointer;\n",
              "      display: none;\n",
              "      fill: #1967D2;\n",
              "      height: 32px;\n",
              "      padding: 0 0 0 0;\n",
              "      width: 32px;\n",
              "    }\n",
              "\n",
              "    .colab-df-convert:hover {\n",
              "      background-color: #E2EBFA;\n",
              "      box-shadow: 0px 1px 2px rgba(60, 64, 67, 0.3), 0px 1px 3px 1px rgba(60, 64, 67, 0.15);\n",
              "      fill: #174EA6;\n",
              "    }\n",
              "\n",
              "    [theme=dark] .colab-df-convert {\n",
              "      background-color: #3B4455;\n",
              "      fill: #D2E3FC;\n",
              "    }\n",
              "\n",
              "    [theme=dark] .colab-df-convert:hover {\n",
              "      background-color: #434B5C;\n",
              "      box-shadow: 0px 1px 3px 1px rgba(0, 0, 0, 0.15);\n",
              "      filter: drop-shadow(0px 1px 2px rgba(0, 0, 0, 0.3));\n",
              "      fill: #FFFFFF;\n",
              "    }\n",
              "  </style>\n",
              "\n",
              "      <script>\n",
              "        const buttonEl =\n",
              "          document.querySelector('#df-015a5ad2-4f0f-451f-9c9b-0bb7d13da764 button.colab-df-convert');\n",
              "        buttonEl.style.display =\n",
              "          google.colab.kernel.accessAllowed ? 'block' : 'none';\n",
              "\n",
              "        async function convertToInteractive(key) {\n",
              "          const element = document.querySelector('#df-015a5ad2-4f0f-451f-9c9b-0bb7d13da764');\n",
              "          const dataTable =\n",
              "            await google.colab.kernel.invokeFunction('convertToInteractive',\n",
              "                                                     [key], {});\n",
              "          if (!dataTable) return;\n",
              "\n",
              "          const docLinkHtml = 'Like what you see? Visit the ' +\n",
              "            '<a target=\"_blank\" href=https://colab.research.google.com/notebooks/data_table.ipynb>data table notebook</a>'\n",
              "            + ' to learn more about interactive tables.';\n",
              "          element.innerHTML = '';\n",
              "          dataTable['output_type'] = 'display_data';\n",
              "          await google.colab.output.renderOutput(dataTable, element);\n",
              "          const docLink = document.createElement('div');\n",
              "          docLink.innerHTML = docLinkHtml;\n",
              "          element.appendChild(docLink);\n",
              "        }\n",
              "      </script>\n",
              "    </div>\n",
              "  </div>\n",
              "  "
            ],
            "text/plain": [
              "                                               Words sentiment\n",
              "0                              Halo, nama saya Daffa  negative\n",
              "1                                   Saya suka coklat  positive\n",
              "2  Kalau misalnya saya lihat mereka bersenang-sen...  negative\n",
              "3  Coba deh kamu jadi orang yang sedikit rajin bi...  negative\n",
              "4  Bisa gak sih ngelakuinnya? Emang sesusah apa sih?  negative\n",
              "5  Ya memang kalau misalnya kamu gak suka sama di...  negative\n",
              "6  Aku coba ngasih saran aja mungkin ya. Soalnya ...  negative\n",
              "7                         Gak sakit kok. Udah sembuh  negative\n",
              "8                    Iya kemarin ada yang kecelakaan   neutral"
            ]
          },
          "metadata": {},
          "execution_count": 93
        }
      ]
    },
    {
      "cell_type": "markdown",
      "source": [
        "##Exporting the model and vectorizer\n"
      ],
      "metadata": {
        "id": "9xBHiG6Ztrb-"
      }
    },
    {
      "cell_type": "code",
      "source": [
        "import pickle\n",
        "\n",
        "pickl = {\"vectorizer\": vectorizer,\n",
        "         \"model\": model\n",
        "         }\n",
        "pickle.dump(pickl, open('svm_models'+'.p', 'wb'))"
      ],
      "metadata": {
        "id": "pkGnm1IDuBUe"
      },
      "execution_count": 94,
      "outputs": []
    },
    {
      "cell_type": "code",
      "source": [
        "with open(\"/content/svm_models.p\", 'rb') as pickled:\n",
        "    data = pickle.load(pickled)\n",
        "model = data[\"model\"]\n",
        "vectorizer = data[\"vectorizer\"]"
      ],
      "metadata": {
        "id": "SIhho5YILGq6"
      },
      "execution_count": 95,
      "outputs": []
    },
    {
      "cell_type": "code",
      "source": [
        "vector = vectorizer.transform([\"Film ini bagus sekali\"])\n",
        "prediction = model.predict(vector)\n",
        "response = prediction[0]\n",
        "print(response)"
      ],
      "metadata": {
        "colab": {
          "base_uri": "https://localhost:8080/"
        },
        "id": "udHWzAAvLZNd",
        "outputId": "c17368a5-6d40-48a0-adbd-41cd97e702df"
      },
      "execution_count": 96,
      "outputs": [
        {
          "output_type": "stream",
          "name": "stdout",
          "text": [
            "positive\n"
          ]
        }
      ]
    }
  ]
}